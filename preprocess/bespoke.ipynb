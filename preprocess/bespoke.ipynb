{
 "cells": [
  {
   "cell_type": "code",
   "execution_count": 1,
   "metadata": {},
   "outputs": [
    {
     "name": "stderr",
     "output_type": "stream",
     "text": [
      "/home/heegyu/miniconda/envs/heegyu/lib/python3.10/site-packages/tqdm/auto.py:21: TqdmWarning: IProgress not found. Please update jupyter and ipywidgets. See https://ipywidgets.readthedocs.io/en/stable/user_install.html\n",
      "  from .autonotebook import tqdm as notebook_tqdm\n",
      "Generating train split: 100%|██████████| 35028/35028 [00:01<00:00, 18320.10 examples/s]\n"
     ]
    }
   ],
   "source": [
    "from datasets import load_dataset\n",
    "\n",
    "ds = load_dataset(\"bespokelabs/Bespoke-Stratos-35k\")"
   ]
  },
  {
   "cell_type": "code",
   "execution_count": 3,
   "metadata": {},
   "outputs": [
    {
     "name": "stdout",
     "output_type": "stream",
     "text": [
      "Your role as an assistant involves thoroughly exploring questions through a systematic long thinking process before providing the final precise and accurate solutions. This requires engaging in a comprehensive cycle of analysis, summarizing, exploration, reassessment, reflection, backtracing, and iteration to develop well-considered thinking process. Please structure your response into two main sections: Thought and Solution. In the Thought section, detail your reasoning process using the specified format: <|begin_of_thought|> {thought with steps separated with '\\n\\n'} <|end_of_thought|> Each step should include detailed considerations such as analisying questions, summarizing relevant findings, brainstorming new ideas, verifying the accuracy of the current steps, refining any errors, and revisiting previous steps. In the Solution section, based on various attempts, explorations, and reflections from the Thought section, systematically present the final solution that you deem correct. The solution should remain a logical, accurate, concise expression style and detail necessary step needed to reach the conclusion, formatted as follows: <|begin_of_solution|> {final formatted, precise, and clear solution} <|end_of_solution|> Now, try to solve the following question through the above guidelines:\n"
     ]
    }
   ],
   "source": [
    "system_message = ds['train'][0]['system']\n",
    "print(system_message)"
   ]
  },
  {
   "cell_type": "code",
   "execution_count": 5,
   "metadata": {},
   "outputs": [
    {
     "name": "stderr",
     "output_type": "stream",
     "text": [
      "Map:   0%|          | 0/35028 [00:00<?, ? examples/s]"
     ]
    },
    {
     "name": "stderr",
     "output_type": "stream",
     "text": [
      "Map: 100%|██████████| 35028/35028 [00:07<00:00, 4460.39 examples/s]\n",
      "Creating parquet from Arrow format: 100%|██████████| 18/18 [00:00<00:00, 22.86ba/s]\n",
      "Creating parquet from Arrow format: 100%|██████████| 18/18 [00:01<00:00, 11.01ba/s]\n",
      "Uploading the dataset shards: 100%|██████████| 2/2 [01:31<00:00, 45.76s/it]\n"
     ]
    },
    {
     "data": {
      "text/plain": [
       "CommitInfo(commit_url='https://huggingface.co/datasets/heegyu/Bespoke-Stratos-35k-messages/commit/22bdb4b91d5c70f7b95ccfca999522bef9d4cb2f', commit_message='Upload dataset', commit_description='', oid='22bdb4b91d5c70f7b95ccfca999522bef9d4cb2f', pr_url=None, repo_url=RepoUrl('https://huggingface.co/datasets/heegyu/Bespoke-Stratos-35k-messages', endpoint='https://huggingface.co', repo_type='dataset', repo_id='heegyu/Bespoke-Stratos-35k-messages'), pr_revision=None, pr_num=None)"
      ]
     },
     "execution_count": 5,
     "metadata": {},
     "output_type": "execute_result"
    }
   ],
   "source": [
    "def change_to_messages(item):\n",
    "    messages = []\n",
    "\n",
    "    messages.append({\n",
    "        \"role\": \"system\",\n",
    "        \"content\": item[\"system\"]\n",
    "    })\n",
    "    for conv in item[\"conversations\"]:\n",
    "        messages.append({\n",
    "            \"role\": conv[\"from\"],\n",
    "            \"content\": conv[\"value\"]\n",
    "        })\n",
    "\n",
    "    return {\"messages\": messages}\n",
    "\n",
    "ds = ds.map(change_to_messages, remove_columns=ds['train'].column_names)\n",
    "ds.push_to_hub(\"heegyu/Bespoke-Stratos-35k-messages\")"
   ]
  },
  {
   "cell_type": "code",
   "execution_count": 6,
   "metadata": {},
   "outputs": [
    {
     "name": "stderr",
     "output_type": "stream",
     "text": [
      "Generating train split: 100%|██████████| 77685/77685 [00:01<00:00, 65634.40 examples/s]\n"
     ]
    }
   ],
   "source": [
    "openo1sft = load_dataset(\"O1-OPEN/OpenO1-SFT\")\n"
   ]
  },
  {
   "cell_type": "code",
   "execution_count": 19,
   "metadata": {},
   "outputs": [
    {
     "name": "stdout",
     "output_type": "stream",
     "text": [
      "{'messages': [{'content': 'Your role as an assistant involves thoroughly '\n",
      "                          'exploring questions through a systematic long '\n",
      "                          'thinking process before providing the final precise '\n",
      "                          'and accurate solutions. This requires engaging in a '\n",
      "                          'comprehensive cycle of analysis, summarizing, '\n",
      "                          'exploration, reassessment, reflection, backtracing, '\n",
      "                          'and iteration to develop well-considered thinking '\n",
      "                          'process. Please structure your response into two '\n",
      "                          'main sections: Thought and Solution. In the Thought '\n",
      "                          'section, detail your reasoning process using the '\n",
      "                          'specified format: <|begin_of_thought|> {thought '\n",
      "                          \"with steps separated with '\\\\n\\\\n'} \"\n",
      "                          '<|end_of_thought|> Each step should include '\n",
      "                          'detailed considerations such as analisying '\n",
      "                          'questions, summarizing relevant findings, '\n",
      "                          'brainstorming new ideas, verifying the accuracy of '\n",
      "                          'the current steps, refining any errors, and '\n",
      "                          'revisiting previous steps. In the Solution section, '\n",
      "                          'based on various attempts, explorations, and '\n",
      "                          'reflections from the Thought section, '\n",
      "                          'systematically present the final solution that you '\n",
      "                          'deem correct. The solution should remain a logical, '\n",
      "                          'accurate, concise expression style and detail '\n",
      "                          'necessary step needed to reach the conclusion, '\n",
      "                          'formatted as follows: <|begin_of_solution|> {final '\n",
      "                          'formatted, precise, and clear solution} '\n",
      "                          '<|end_of_solution|> Now, try to solve the following '\n",
      "                          'question through the above guidelines:',\n",
      "               'role': 'system'},\n",
      "              {'content': 'Consider a regular octagon. How many different '\n",
      "                          'triangles can be formed if the octagon is placed '\n",
      "                          'inside a circle and we can also use the center of '\n",
      "                          \"the circle as a vertex for the triangles? Let's \"\n",
      "                          'think step by step.',\n",
      "               'role': 'user'},\n",
      "              {'content': '<|begin_of_thought|>\\n'\n",
      "                          'Alright, I need to figure out how many different '\n",
      "                          \"triangles can be formed in a regular octagon that's \"\n",
      "                          'placed inside a circle, with the added twist that '\n",
      "                          'the center of the circle can also be used as a '\n",
      "                          \"vertex for the triangles. Let's break this down \"\n",
      "                          'step by step.\\n'\n",
      "                          '\\n'\n",
      "                          \"First, let's recall that a regular octagon has 8 \"\n",
      "                          \"equal sides and 8 equal angles. Since it's placed \"\n",
      "                          'inside a circle, each vertex of the octagon lies on '\n",
      "                          'the circumference of the circle. Additionally, we '\n",
      "                          'have the center of the circle as an extra point '\n",
      "                          'that can be used as a vertex for forming '\n",
      "                          'triangles.\\n'\n",
      "                          '\\n'\n",
      "                          'So, in total, we have 9 points to consider: the 8 '\n",
      "                          'vertices of the octagon and the center of the '\n",
      "                          'circle.\\n'\n",
      "                          '\\n'\n",
      "                          'Now, to form a triangle, we need to select any 3 of '\n",
      "                          'these 9 points. The number of ways to choose 3 '\n",
      "                          'points out of 9 is given by the combination formula '\n",
      "                          'C(n, k) = n! / (k!(n-k)!), where n is the total '\n",
      "                          'number of points and k is the number of points to '\n",
      "                          'choose.\\n'\n",
      "                          '\\n'\n",
      "                          'Calculating C(9, 3):\\n'\n",
      "                          'C(9, 3) = 9! / (3! * (9-3)!) = (9 * 8 * 7) / (3 * 2 '\n",
      "                          '* 1) = 84.\\n'\n",
      "                          '\\n'\n",
      "                          'So, there are 84 possible triangles if we consider '\n",
      "                          'all combinations of the 9 points.\\n'\n",
      "                          '\\n'\n",
      "                          \"But wait, let's make sure we're not missing \"\n",
      "                          'anything. Are there any restrictions or special '\n",
      "                          'cases? For instance, could any three points be '\n",
      "                          'collinear, making them unable to form a triangle? '\n",
      "                          'In a regular octagon inscribed in a circle, no '\n",
      "                          'three vertices are collinear because the angles '\n",
      "                          'between consecutive vertices are 45 degrees, and no '\n",
      "                          'three points on the circumference of a circle are '\n",
      "                          'collinear unless they lie on a straight line, which '\n",
      "                          \"doesn't happen here. Additionally, including the \"\n",
      "                          \"center doesn't introduce any collinearity issues \"\n",
      "                          'because the center is equidistant from all '\n",
      "                          'vertices, and connecting it with any two vertices '\n",
      "                          'forms a triangle.\\n'\n",
      "                          '\\n'\n",
      "                          'Therefore, all 84 combinations of 3 points will '\n",
      "                          'indeed form valid triangles.\\n'\n",
      "                          '\\n'\n",
      "                          \"But let's double-check by considering different \"\n",
      "                          'scenarios:\\n'\n",
      "                          '1. Triangles formed by three vertices of the '\n",
      "                          'octagon.\\n'\n",
      "                          '2. Triangles formed by two vertices and the '\n",
      "                          'center.\\n'\n",
      "                          '3. Triangles formed by one vertex, the center, and '\n",
      "                          'another point (but since we only have the center '\n",
      "                          'and the vertices, this is covered in the previous '\n",
      "                          'points).\\n'\n",
      "                          '\\n'\n",
      "                          'Calculating each scenario separately:\\n'\n",
      "                          '1. Number of triangles with three vertices: C(8, 3) '\n",
      "                          '= 56.\\n'\n",
      "                          '2. Number of triangles with two vertices and the '\n",
      "                          'center: C(8, 2) = 28.\\n'\n",
      "                          \"3. Since there's only one center, and we've already \"\n",
      "                          'accounted for triangles with two vertices and the '\n",
      "                          'center, there are no additional triangles to '\n",
      "                          'consider.\\n'\n",
      "                          '\\n'\n",
      "                          'Adding these up: 56 + 28 = 84, which matches our '\n",
      "                          'initial calculation.\\n'\n",
      "                          '\\n'\n",
      "                          'Is there any other consideration? Perhaps symmetry '\n",
      "                          'or identical triangles? In a regular octagon, due '\n",
      "                          'to its symmetry, some triangles might be congruent, '\n",
      "                          'but the question asks for different triangles, not '\n",
      "                          'necessarily unique in shape or size. So, even if '\n",
      "                          'some triangles are congruent, they are still '\n",
      "                          'counted as different if they consist of different '\n",
      "                          'sets of points.\\n'\n",
      "                          '\\n'\n",
      "                          'Therefore, the total number of different triangles '\n",
      "                          'that can be formed is 84.\\n'\n",
      "                          '\\n'\n",
      "                          '<|end_of_thought|>\\n'\n",
      "                          '<|begin_of_solution|>\\n'\n",
      "                          '84 different triangles can be formed.\\n'\n",
      "                          '<|end_of_solution|>',\n",
      "               'role': 'assistant'}]}\n"
     ]
    },
    {
     "name": "stderr",
     "output_type": "stream",
     "text": [
      "Map: 100%|██████████| 77685/77685 [00:07<00:00, 10038.86 examples/s]\n",
      "Creating parquet from Arrow format: 100%|██████████| 78/78 [00:01<00:00, 54.71ba/s]\n",
      "Uploading the dataset shards: 100%|██████████| 1/1 [01:01<00:00, 62.00s/it]\n"
     ]
    },
    {
     "data": {
      "text/plain": [
       "CommitInfo(commit_url='https://huggingface.co/datasets/heegyu/OpenO1-SFT-35k-messages-bespoke/commit/978368419b09158f4c2fe1110d1dc603be78a153', commit_message='Upload dataset', commit_description='', oid='978368419b09158f4c2fe1110d1dc603be78a153', pr_url=None, repo_url=RepoUrl('https://huggingface.co/datasets/heegyu/OpenO1-SFT-35k-messages-bespoke', endpoint='https://huggingface.co', repo_type='dataset', repo_id='heegyu/OpenO1-SFT-35k-messages-bespoke'), pr_revision=None, pr_num=None)"
      ]
     },
     "execution_count": 19,
     "metadata": {},
     "output_type": "execute_result"
    }
   ],
   "source": [
    "from pprint import pprint\n",
    "\n",
    "def map_openo1_sft(item):\n",
    "    output = item[\"output\"]\n",
    "    output = output.replace(\"<Thought>\", \"<|begin_of_thought|>\")\n",
    "    output = output.replace(\"</Thought>\", \"<|end_of_thought|>\")\n",
    "    output = output.replace(\"<Output>\", \"<|begin_of_solution|>\")\n",
    "    output = output.replace(\"</Output>\", \"<|end_of_solution|>\")\n",
    "    \n",
    "    return {\n",
    "        \"messages\": [\n",
    "            {\n",
    "                \"role\": \"system\",\n",
    "                \"content\": system_message\n",
    "            },\n",
    "            {\n",
    "                \"role\": \"user\",\n",
    "                \"content\": item[\"instruction\"]\n",
    "            },\n",
    "            {\n",
    "                \"role\": \"assistant\",\n",
    "                \"content\": output\n",
    "            }\n",
    "        ]\n",
    "    }\n",
    "\n",
    "pprint(map_openo1_sft(openo1sft['train'][0]))\n",
    "\n",
    "openo1sft = openo1sft.map(map_openo1_sft, remove_columns=openo1sft['train'].column_names)\n",
    "openo1sft.push_to_hub(\"heegyu/OpenO1-SFT-35k-messages-bespoke\")"
   ]
  },
  {
   "cell_type": "code",
   "execution_count": 9,
   "metadata": {},
   "outputs": [],
   "source": [
    "from transformers import AutoTokenizer\n",
    "\n",
    "tokenizer = AutoTokenizer.from_pretrained(\"Qwen/Qwen2.5-Math-1.5B\")"
   ]
  },
  {
   "cell_type": "code",
   "execution_count": 20,
   "metadata": {},
   "outputs": [],
   "source": [
    "def count_tokens(messages):\n",
    "    tokens = tokenizer.apply_chat_template(messages)\n",
    "    return len(tokens)\n",
    "\n",
    "# count_tokens(map_openo1_sft(openo1sft['train'][0])[\"messages\"])\n",
    "\n",
    "# df = ds['train'].to_pandas()\n",
    "df = openo1sft['train'].to_pandas()"
   ]
  },
  {
   "cell_type": "code",
   "execution_count": 18,
   "metadata": {},
   "outputs": [
    {
     "data": {
      "text/plain": [
       "count     1000.000000\n",
       "mean      5794.357000\n",
       "std       5006.488241\n",
       "min        764.000000\n",
       "25%       2293.750000\n",
       "50%       3925.000000\n",
       "75%       7541.500000\n",
       "max      27131.000000\n",
       "Name: messages, dtype: float64"
      ]
     },
     "execution_count": 18,
     "metadata": {},
     "output_type": "execute_result"
    }
   ],
   "source": [
    "num_tokens = df[\"messages\"].sample(1000).apply(count_tokens)\n",
    "num_tokens.describe()"
   ]
  }
 ],
 "metadata": {
  "kernelspec": {
   "display_name": "heegyu",
   "language": "python",
   "name": "python3"
  },
  "language_info": {
   "codemirror_mode": {
    "name": "ipython",
    "version": 3
   },
   "file_extension": ".py",
   "mimetype": "text/x-python",
   "name": "python",
   "nbconvert_exporter": "python",
   "pygments_lexer": "ipython3",
   "version": "3.10.14"
  }
 },
 "nbformat": 4,
 "nbformat_minor": 2
}
